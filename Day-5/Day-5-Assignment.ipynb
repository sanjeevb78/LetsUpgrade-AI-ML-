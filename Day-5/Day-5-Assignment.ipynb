{
 "cells": [
  {
   "cell_type": "markdown",
   "metadata": {},
   "source": [
    "**Question 1 :\n",
    "Write a Python program to find the first 20 non-even prime natural numbers.**\n"
   ]
  },
  {
   "cell_type": "code",
   "execution_count": 26,
   "metadata": {},
   "outputs": [
    {
     "name": "stdout",
     "output_type": "stream",
     "text": [
      "First 20 natural prime numbers are as below: \n",
      "2 is prime number\n",
      "3 is prime number\n",
      "5 is prime number\n",
      "7 is prime number\n",
      "11 is prime number\n",
      "13 is prime number\n",
      "17 is prime number\n",
      "19 is prime number\n",
      "23 is prime number\n",
      "29 is prime number\n",
      "31 is prime number\n",
      "37 is prime number\n",
      "41 is prime number\n",
      "43 is prime number\n",
      "47 is prime number\n",
      "53 is prime number\n",
      "59 is prime number\n",
      "61 is prime number\n",
      "67 is prime number\n",
      "71 is prime number\n"
     ]
    }
   ],
   "source": [
    "n=1\n",
    "prime_number_counter=0\n",
    "print(\"First 20 natural prime numbers are as below: \")\n",
    "while prime_number_counter <20:\n",
    "    if n>1:\n",
    "        for i in range(2,n):\n",
    "            if (n%i)==0:\n",
    "                #print(n, 'is not prime number')\n",
    "                break\n",
    "        \n",
    "        else:\n",
    "            print(n, 'is prime number')\n",
    "            prime_number_counter+=1\n",
    "        \n",
    "    \n",
    "    n+=1\n",
    "        \n",
    "        \n",
    "    \n",
    "    "
   ]
  },
  {
   "cell_type": "markdown",
   "metadata": {},
   "source": [
    "**Question 2 :\n",
    "Write a Python program to implement 15 functions of string**"
   ]
  },
  {
   "cell_type": "code",
   "execution_count": 40,
   "metadata": {},
   "outputs": [
    {
     "name": "stdout",
     "output_type": "stream",
     "text": [
      "My name is sanjeev b\n",
      "     My name is sanjeev B     \n",
      "3\n",
      "19\n",
      "False\n",
      "False\n",
      "False\n",
      "my name is sanjeev b\n",
      "MY NAME IS SANJEEV B\n",
      "['My', 'name', 'is', 'sanjeev', 'B']\n",
      "My name is sanjeev B\n",
      "My Name Is Sanjeev B\n",
      "False\n",
      "My name is sanjeev B\n",
      "False\n"
     ]
    }
   ],
   "source": [
    "str= \"My name is sanjeev B\"\n",
    "\n",
    "print(str.capitalize())\n",
    "print(str.center(30))\n",
    "print(str.index(\"name\"))\n",
    "print(str.find(\"B\"))\n",
    "print(str.isalnum())\n",
    "print(str.isalpha())\n",
    "print(str.islower())\n",
    "print(str.lower())\n",
    "print(str.upper())\n",
    "print(str.split())\n",
    "print(str.strip())\n",
    "print(str.title())\n",
    "print(str.startswith(\"sanjeev\"))\n",
    "print(str.zfill(0))\n",
    "print(str.isspace())"
   ]
  },
  {
   "cell_type": "markdown",
   "metadata": {},
   "source": [
    "**Write a Python program to check if the given string is a Palindrome or Anagram or None of them.\n",
    "Display the message accordingly to the user.**"
   ]
  },
  {
   "cell_type": "code",
   "execution_count": 66,
   "metadata": {},
   "outputs": [
    {
     "name": "stdout",
     "output_type": "stream",
     "text": [
      "The strings are anagrams.\n",
      "The strings isn't Palindrome.\n"
     ]
    }
   ],
   "source": [
    "s1=\"silent\"\n",
    "s2=\"listen\"\n",
    "\n",
    "if(sorted(s1)== sorted(s2)): \n",
    "    print(\"The strings are anagrams.\")  \n",
    "else:\n",
    "    print(\"The strings aren't anagrams.\")          \n",
    "          \n",
    "        \n",
    "str=\"Malayalam\"\n",
    "\n",
    "if(str== reversed(str)): \n",
    "    print(\"The string is Palindrome.\")  \n",
    "else:\n",
    "    print(\"The strings isn't Palindrome.\")          \n",
    "          \n",
    "       "
   ]
  },
  {
   "cell_type": "markdown",
   "metadata": {},
   "source": [
    "**Question 4:\n",
    "Write a Python's user defined function that removes all the additional characters from the string\n",
    "and converts it finally to lower case using built-in lower(). eg: If the string is \"Dr. Darshan Ingle\n",
    "@AI-ML Trainer\", then the output be \"drdarshaningleaimltrainer\".**"
   ]
  },
  {
   "cell_type": "code",
   "execution_count": 84,
   "metadata": {},
   "outputs": [
    {
     "name": "stdout",
     "output_type": "stream",
     "text": [
      "drdarshaningleaimltrainer\n"
     ]
    }
   ],
   "source": [
    "str=\"Dr. Darshan Ingle @AI-ML Trainer\"\n",
    "\n",
    "remove=[\" \",\"@\",\"-\",\".\"]\n",
    "\n",
    "for i in remove : \n",
    "    str = str.replace(i, '') \n",
    "\n",
    "print(str.lower())"
   ]
  },
  {
   "cell_type": "code",
   "execution_count": null,
   "metadata": {},
   "outputs": [],
   "source": []
  }
 ],
 "metadata": {
  "kernelspec": {
   "display_name": "Python 3",
   "language": "python",
   "name": "python3"
  },
  "language_info": {
   "codemirror_mode": {
    "name": "ipython",
    "version": 3
   },
   "file_extension": ".py",
   "mimetype": "text/x-python",
   "name": "python",
   "nbconvert_exporter": "python",
   "pygments_lexer": "ipython3",
   "version": "3.7.6"
  }
 },
 "nbformat": 4,
 "nbformat_minor": 4
}
