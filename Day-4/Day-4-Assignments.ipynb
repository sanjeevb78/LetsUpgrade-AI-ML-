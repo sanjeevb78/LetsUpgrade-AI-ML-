{
 "cells": [
  {
   "cell_type": "markdown",
   "metadata": {},
   "source": [
    "**Question 1 :\n",
    "Research on whether addition, subtraction, multiplication, division, floor division and modulo\n",
    "operations be performed on complex numbers. Based on your study, implement a Python\n",
    "program to demonstrate these operations.**\n"
   ]
  },
  {
   "cell_type": "code",
   "execution_count": 2,
   "metadata": {},
   "outputs": [
    {
     "name": "stdout",
     "output_type": "stream",
     "text": [
      "Addition of two complex number = (9+21j)\n",
      "Subtraction of two complex number = (-3-9j)\n",
      "Multiplication of two complex number = (-72+81j)\n",
      "Division of two complex number = (0.4137931034482759-0.03448275862068964j)\n"
     ]
    }
   ],
   "source": [
    "#first complex number\n",
    "c1 = 3 + 6j\n",
    "#Second complex number\n",
    "c2 = 6 + 15j\n",
    "\n",
    "#Addition\n",
    "print(\"Addition of two complex number =\", c1 + c2)\n",
    "\n",
    "#Subtraction\n",
    "print(\"Subtraction of two complex number =\", c1 - c2)\n",
    "\n",
    "#Multiplication\n",
    "print(\"Multiplication of two complex number =\", c1 * c2)\n",
    "\n",
    "#Division\n",
    "print(\"Division of two complex number =\", c1 / c2)\n"
   ]
  },
  {
   "cell_type": "markdown",
   "metadata": {},
   "source": [
    "**Question 2 :\n",
    "Research on range() functions and its parameters. Create a markdown cell and write in your own\n",
    "words (no copy-paste from google please) what you understand about it. Implement a small\n",
    "program of your choice on the same.**\n"
   ]
  },
  {
   "cell_type": "markdown",
   "metadata": {},
   "source": [
    "In simple terms, range() allows user to generate a series of numbers within a given range. \n",
    "\n",
    "range() takes mainly three arguments.\n",
    "\n",
    "start: integer starting from which the sequence of integers is to be returned\n",
    "\n",
    "stop: integer before which the sequence of integers is to be returned.\n",
    "\n",
    "The range of integers end at stop – 1.\n",
    "\n",
    "step: integer value which determines the increment between each integer in the sequence"
   ]
  },
  {
   "cell_type": "code",
   "execution_count": 15,
   "metadata": {},
   "outputs": [
    {
     "name": "stdout",
     "output_type": "stream",
     "text": [
      "0 1 2 3 4 5 6 7 8 9 \n",
      "10 20 30 40 \n",
      "15 18 21 24 "
     ]
    }
   ],
   "source": [
    "# printing a number \n",
    "for i in range(10): \n",
    "    print(i, end=' ') \n",
    "print() \n",
    "  \n",
    "# using range for iteration \n",
    "l = [10, 20, 30, 40] \n",
    "for i in range(len(l)): \n",
    "    print(l[i], end =\" \") \n",
    "print() \n",
    "\n",
    "  \n",
    "# incremented by 3 \n",
    "for i in range(15, 25, 3): \n",
    "    print(i, end =\" \") "
   ]
  },
  {
   "cell_type": "markdown",
   "metadata": {},
   "source": [
    "**Question 3:\n",
    "Consider two numbers. Perform their subtraction and if the result of subtraction is greater than\n",
    "25, print their multiplication result else print their division result.**\n"
   ]
  },
  {
   "cell_type": "code",
   "execution_count": 36,
   "metadata": {},
   "outputs": [
    {
     "name": "stdout",
     "output_type": "stream",
     "text": [
      "Divison Result:  0.76\n"
     ]
    }
   ],
   "source": [
    "a=19\n",
    "b=25\n",
    "if (a-b) > 25:\n",
    "    print(\"Multiplication value:\", a*b)\n",
    "else:\n",
    "    print(\"Divison Result: \", str(float(a/b)))"
   ]
  },
  {
   "cell_type": "markdown",
   "metadata": {},
   "source": [
    "**Question 4:\n",
    "Consider a list of 10 elements of integer values. If the number in the list is divisible by 2, print the\n",
    "result as \"square of that number minus 2\"**"
   ]
  },
  {
   "cell_type": "code",
   "execution_count": 39,
   "metadata": {},
   "outputs": [
    {
     "name": "stdout",
     "output_type": "stream",
     "text": [
      "square of 2 minus 2 : 2\n",
      "square of 4 minus 2 : 14\n",
      "square of 6 minus 2 : 34\n",
      "square of 8 minus 2 : 62\n",
      "square of 10 minus 2 : 98\n"
     ]
    }
   ],
   "source": [
    "l= [1,2,3,4,5,6,7,8,9,10]\n",
    "for i in l:\n",
    "    if (i%2==0):\n",
    "        print('square of', i, 'minus 2 :', (i**2)-2)\n",
    "        "
   ]
  },
  {
   "cell_type": "markdown",
   "metadata": {},
   "source": [
    "**Question 5:\n",
    "Consider a list of 10 elements. Print all the elements in the list which are greater than 7 when that\n",
    "number is divided 2**\n"
   ]
  },
  {
   "cell_type": "code",
   "execution_count": 46,
   "metadata": {},
   "outputs": [
    {
     "name": "stdout",
     "output_type": "stream",
     "text": [
      "30 is gretare than 7 after divided by 2\n",
      "80 is gretare than 7 after divided by 2\n",
      "100 is gretare than 7 after divided by 2\n"
     ]
    }
   ],
   "source": [
    "l= [1,2,30,4,5,6,7,80,9,100]\n",
    "for i in l:\n",
    "    if (i/2 >7):\n",
    "        print(i, 'is gretare than 7 after divided by 2')\n",
    "        "
   ]
  },
  {
   "cell_type": "code",
   "execution_count": null,
   "metadata": {},
   "outputs": [],
   "source": []
  }
 ],
 "metadata": {
  "kernelspec": {
   "display_name": "Python 3",
   "language": "python",
   "name": "python3"
  },
  "language_info": {
   "codemirror_mode": {
    "name": "ipython",
    "version": 3
   },
   "file_extension": ".py",
   "mimetype": "text/x-python",
   "name": "python",
   "nbconvert_exporter": "python",
   "pygments_lexer": "ipython3",
   "version": "3.7.6"
  }
 },
 "nbformat": 4,
 "nbformat_minor": 4
}
