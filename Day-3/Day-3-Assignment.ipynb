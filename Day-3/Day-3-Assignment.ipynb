{
 "cells": [
  {
   "cell_type": "markdown",
   "metadata": {},
   "source": [
    "Question 1 :\n",
    "Write a program to subtract two complex numbers in Python.\n"
   ]
  },
  {
   "cell_type": "code",
   "execution_count": 2,
   "metadata": {},
   "outputs": [
    {
     "name": "stdout",
     "output_type": "stream",
     "text": [
      "(8+7j)\n"
     ]
    }
   ],
   "source": [
    "a =3 + 2j\n",
    "b= 5 +5j\n",
    "print(a+b)"
   ]
  },
  {
   "cell_type": "markdown",
   "metadata": {},
   "source": [
    "Question 2 :\n",
    "Write a program to find the fourth root of a number."
   ]
  },
  {
   "cell_type": "code",
   "execution_count": 3,
   "metadata": {},
   "outputs": [
    {
     "name": "stdout",
     "output_type": "stream",
     "text": [
      "Enter a number: 16\n",
      "2.0\n"
     ]
    }
   ],
   "source": [
    "x=int(input(\"Enter a number: \"))\n",
    "print(x**(1/4))"
   ]
  },
  {
   "cell_type": "markdown",
   "metadata": {},
   "source": [
    "Question 3:\n",
    "Write a program to swap two numbers in Python with the help of a temporary variable."
   ]
  },
  {
   "cell_type": "code",
   "execution_count": 22,
   "metadata": {},
   "outputs": [
    {
     "name": "stdout",
     "output_type": "stream",
     "text": [
      "Initially:\n",
      "a= 2\n",
      "b= 3\n",
      "\n",
      "After Swapping:\n",
      "a= 3\n",
      "b= 2\n",
      "\n"
     ]
    }
   ],
   "source": [
    "a=2\n",
    "b=3\n",
    "print (\"Initially:\\na= %d\\nb= %d\\n\" %(a,b))\n",
    "c=a\n",
    "a=b\n",
    "b=c\n",
    "print (\"After Swapping:\\na= %d\\nb= %d\\n\" %(a,b))\n",
    "\n"
   ]
  },
  {
   "cell_type": "markdown",
   "metadata": {},
   "source": [
    "Question 4:\n",
    "Write a program to swap two numbers in Python without using a temporary variable."
   ]
  },
  {
   "cell_type": "code",
   "execution_count": 25,
   "metadata": {},
   "outputs": [
    {
     "name": "stdout",
     "output_type": "stream",
     "text": [
      "Initially:\n",
      "a= 2\n",
      "b= 3\n",
      "\n",
      "After Swapping:\n",
      "a= 3\n",
      "b= 2\n",
      "\n"
     ]
    }
   ],
   "source": [
    "a=2\n",
    "b=3\n",
    "print (\"Initially:\\na= %d\\nb= %d\\n\" %(a,b))\n",
    "\n",
    "a= a+b #a becomes 5\n",
    "b=a-b #b becomes 2\n",
    "a=a-b #a becomes 3\n",
    "\n",
    "print (\"After Swapping:\\na= %d\\nb= %d\\n\" %(a,b))\n"
   ]
  },
  {
   "cell_type": "markdown",
   "metadata": {},
   "source": [
    "Question 5:\n",
    "Write a program to convert fahrenheit to kelvin and celsius both."
   ]
  },
  {
   "cell_type": "code",
   "execution_count": 37,
   "metadata": {},
   "outputs": [
    {
     "name": "stdout",
     "output_type": "stream",
     "text": [
      "Temp in Kelvin: 311.278\n",
      "Temp in Celsius: 37.778\n"
     ]
    }
   ],
   "source": [
    "F =100\n",
    "K = 273.5 + ((F - 32.0) * (5.0/9.0))\n",
    "print (\"Temp in Kelvin: %.3f\" %(K))\n",
    "\n",
    "C = (5/9) * (F - 32)\n",
    "\n",
    "print (\"Temp in Celsius: %.3f\" %(C))\n"
   ]
  },
  {
   "cell_type": "markdown",
   "metadata": {},
   "source": [
    "Question 6:\n",
    "Write a program to demonstrate all the available data types in Python. Hint: Use type() function."
   ]
  },
  {
   "cell_type": "code",
   "execution_count": 48,
   "metadata": {},
   "outputs": [
    {
     "name": "stdout",
     "output_type": "stream",
     "text": [
      "Type of a:  <class 'int'>\n",
      "\n",
      "Type of b:  <class 'float'>\n",
      "\n",
      "Type of c:  <class 'complex'>\n",
      "\n",
      "Type of Str:  <class 'str'>\n",
      "\n",
      "Type of Str:  <class 'bool'>\n"
     ]
    }
   ],
   "source": [
    "a = 5\n",
    "print(\"Type of a: \", type(a)) \n",
    "  \n",
    "b = 5.0\n",
    "print(\"\\nType of b: \", type(b)) \n",
    "  \n",
    "c = 2 + 4j\n",
    "print(\"\\nType of c: \", type(c)) \n",
    "\n",
    "\n",
    "Str = \"I am a string\"\n",
    "print(\"\\nType of Str: \", type(Str)) \n",
    "\n",
    "test= True\n",
    "print(\"\\nType of Str: \", type(test)) \n"
   ]
  },
  {
   "cell_type": "markdown",
   "metadata": {},
   "source": [
    "Question 7:\n",
    "Create a Markdown cell in jupyter and list the steps discussed in the session by Dr. Darshan\n",
    "Ingle sir to create Github profile and upload Githubs Assignment link."
   ]
  },
  {
   "cell_type": "markdown",
   "metadata": {},
   "source": [
    " 🔗Assignment Submission Link : https://bit.ly/aimlassignment\n",
    "\n",
    "🔗GitHub Folder for AI ML Assignments : https://github.com/LetsUpgrade/AI-ML-July-2020\n",
    "\n",
    "Notes will be uploaded after whole notebook is covered by Sir.\n",
    "\n",
    "You have to upload the assignment solutions to your GitHub profile and submit the URL to us.\n",
    "\n",
    "🤔 How to submit Assignments?\n",
    "\n",
    "1. Create a Github public repo and name it LetsUpgrade AI/ML\n",
    "\n",
    "2. Upload the files/solution in the repo in day wise manner.\n",
    "\n",
    "3. Copy the URL of the Folder of that day and paste in the Assignment Submission Form (Google Form)\n",
    "\n",
    "4. Make sure you are filling correct details in the Assignment Submission Form.\n",
    "\n",
    "5. All the drop-downs will be available till the week end only. i.e Previous weeks drop-down will disappear on each Sunday 11:59 PM\n",
    "\n",
    "6. You have to submit all the assignment given during the weekdays by respective SUNDAY 11:59 PM IST.\n",
    "\n",
    "🏷 Assignments will be uploaded by LetsUpgrade Team by end of the day of the session."
   ]
  },
  {
   "cell_type": "code",
   "execution_count": null,
   "metadata": {},
   "outputs": [],
   "source": []
  }
 ],
 "metadata": {
  "kernelspec": {
   "display_name": "Python 3",
   "language": "python",
   "name": "python3"
  },
  "language_info": {
   "codemirror_mode": {
    "name": "ipython",
    "version": 3
   },
   "file_extension": ".py",
   "mimetype": "text/x-python",
   "name": "python",
   "nbconvert_exporter": "python",
   "pygments_lexer": "ipython3",
   "version": "3.7.6"
  }
 },
 "nbformat": 4,
 "nbformat_minor": 4
}
